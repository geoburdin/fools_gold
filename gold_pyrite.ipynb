{
  "nbformat": 4,
  "nbformat_minor": 0,
  "metadata": {
    "colab": {
      "name": "gold_pyrite.ipynb",
      "provenance": [],
      "authorship_tag": "ABX9TyM42AioHMEyG6W32M2lTDf9",
      "include_colab_link": true
    },
    "kernelspec": {
      "name": "python3",
      "display_name": "Python 3"
    },
    "language_info": {
      "name": "python"
    },
    "accelerator": "GPU"
  },
  "cells": [
    {
      "cell_type": "markdown",
      "metadata": {
        "id": "view-in-github",
        "colab_type": "text"
      },
      "source": [
        "<a href=\"https://colab.research.google.com/github/geoburdin/fools_gold/blob/main/gold_pyrite.ipynb\" target=\"_parent\"><img src=\"https://colab.research.google.com/assets/colab-badge.svg\" alt=\"Open In Colab\"/></a>"
      ]
    },
    {
      "cell_type": "markdown",
      "metadata": {
        "id": "8zpLh0NpVvWx"
      },
      "source": [
        "First of all, we need to have a dataset. The fastest way to get one is found something ready from Kaggle. Load kaggle.json and unzip the folder with the source images\n"
      ]
    },
    {
      "cell_type": "code",
      "metadata": {
        "colab": {
          "resources": {
            "http://localhost:8080/nbextensions/google.colab/files.js": {
              "data": "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",
              "ok": true,
              "headers": [
                [
                  "content-type",
                  "application/javascript"
                ]
              ],
              "status": 200,
              "status_text": ""
            }
          },
          "base_uri": "https://localhost:8080/",
          "height": 1000
        },
        "id": "_UHw_qDeVikk",
        "outputId": "d5e00bed-3f55-4592-91ef-7ec513963965"
      },
      "source": [
        "! pip install -q kaggle\n",
        "from google.colab import files\n",
        "\n",
        "files.upload()\n",
        "! mkdir ~/.kaggle\n",
        "\n",
        "! cp kaggle.json ~/.kaggle/\n",
        "! chmod 600 ~/.kaggle/kaggle.json\n",
        "! kaggle datasets list\n",
        "! kaggle datasets download -d egorgeorgiy/pyrite-gold\n",
        "!unzip pyrite-gold.zip"
      ],
      "execution_count": null,
      "outputs": [
        {
          "output_type": "display_data",
          "data": {
            "text/html": [
              "\n",
              "     <input type=\"file\" id=\"files-93524444-60b6-4a19-a5ac-385bba5f043c\" name=\"files[]\" multiple disabled\n",
              "        style=\"border:none\" />\n",
              "     <output id=\"result-93524444-60b6-4a19-a5ac-385bba5f043c\">\n",
              "      Upload widget is only available when the cell has been executed in the\n",
              "      current browser session. Please rerun this cell to enable.\n",
              "      </output>\n",
              "      <script src=\"/nbextensions/google.colab/files.js\"></script> "
            ],
            "text/plain": [
              "<IPython.core.display.HTML object>"
            ]
          },
          "metadata": {
            "tags": []
          }
        },
        {
          "output_type": "stream",
          "text": [
            "Saving kaggle.json to kaggle.json\n",
            "Warning: Looks like you're using an outdated API Version, please consider updating (server 1.5.12 / client 1.5.4)\n",
            "ref                                                         title                                              size  lastUpdated          downloadCount  \n",
            "----------------------------------------------------------  ------------------------------------------------  -----  -------------------  -------------  \n",
            "gpreda/reddit-vaccine-myths                                 Reddit Vaccine Myths                              224KB  2021-04-24 17:07:26           3665  \n",
            "crowww/a-large-scale-fish-dataset                           A Large Scale Fish Dataset                          3GB  2021-02-17 16:10:44           2118  \n",
            "promptcloud/careerbuilder-job-listing-2020                  Careerbuilder Job Listing 2020                     42MB  2021-03-05 06:59:52            444  \n",
            "dhruvildave/wikibooks-dataset                               Wikibooks Dataset                                   1GB  2021-02-18 10:08:27           1360  \n",
            "mathurinache/twitter-edge-nodes                             Twitter Edge Nodes                                342MB  2021-03-08 06:43:04            198  \n",
            "imsparsh/musicnet-dataset                                   MusicNet Dataset                                   22GB  2021-02-18 14:12:19            752  \n",
            "simiotic/github-code-snippets                               GitHub Code Snippets                                7GB  2021-03-03 11:34:39             78  \n",
            "nickuzmenkov/nih-chest-xrays-tfrecords                      NIH Chest X-rays TFRecords                         11GB  2021-03-09 04:49:23            310  \n",
            "alsgroup/end-als                                            End ALS Kaggle Challenge                           12GB  2021-04-08 12:16:37            512  \n",
            "fatiimaezzahra/famous-iconic-women                          Famous Iconic Women                               838MB  2021-02-28 14:56:00            456  \n",
            "landrykezebou/lvzhdr-tone-mapping-benchmark-dataset-tmonet  LVZ-HDR Tone Mapping Benchmark Dataset (TMO-Net)   24GB  2021-03-01 05:03:40             49  \n",
            "coloradokb/dandelionimages                                  DandelionImages                                     4GB  2021-02-19 20:03:47            193  \n",
            "mathurinache/the-lj-speech-dataset                          The LJ Speech Dataset                               3GB  2021-02-15 09:19:54            103  \n",
            "nickuzmenkov/ranzcr-clip-kfold-tfrecords                    RANZCR CLiP KFold TFRecords                         2GB  2021-02-21 13:29:51             63  \n",
            "stuartjames/lights                                          LightS: Light Specularity Dataset                  18GB  2021-02-18 14:32:26             36  \n",
            "imsparsh/accentdb-core-extended                             AccentDB - Core & Extended                          6GB  2021-02-17 14:22:54             43  \n",
            "datasnaek/youtube-new                                       Trending YouTube Video Statistics                 201MB  2019-06-03 00:56:47         137347  \n",
            "zynicide/wine-reviews                                       Wine Reviews                                       51MB  2017-11-27 17:08:04         134500  \n",
            "rtatman/188-million-us-wildfires                            1.88 Million US Wildfires                         168MB  2020-05-12 21:03:49          15076  \n",
            "datasnaek/chess                                             Chess Game Dataset (Lichess)                        3MB  2017-09-04 03:09:09          17138  \n",
            "Downloading pyrite-gold.zip to /content\n",
            " 15% 5.00M/32.9M [00:00<00:00, 46.6MB/s]\n",
            "100% 32.9M/32.9M [00:00<00:00, 161MB/s] \n",
            "Archive:  pyrite-gold.zip\n",
            "  inflating: images/gold/0.jpeg      \n",
            "  inflating: images/gold/10.jpeg     \n",
            "  inflating: images/gold/100.jpeg    \n",
            "  inflating: images/gold/101.jpeg    \n",
            "  inflating: images/gold/102.jpeg    \n",
            "  inflating: images/gold/103.jpeg    \n",
            "  inflating: images/gold/106.jpeg    \n",
            "  inflating: images/gold/107.jpeg    \n",
            "  inflating: images/gold/108.jpeg    \n",
            "  inflating: images/gold/109.jpeg    \n",
            "  inflating: images/gold/11.jpeg     \n",
            "  inflating: images/gold/111.jpeg    \n",
            "  inflating: images/gold/112.jpeg    \n",
            "  inflating: images/gold/113.jpeg    \n",
            "  inflating: images/gold/114.jpeg    \n",
            "  inflating: images/gold/115.jpeg    \n",
            "  inflating: images/gold/118.jpeg    \n",
            "  inflating: images/gold/12.jpeg     \n",
            "  inflating: images/gold/121.jpeg    \n",
            "  inflating: images/gold/123.jpeg    \n",
            "  inflating: images/gold/124.jpeg    \n",
            "  inflating: images/gold/126.jpeg    \n",
            "  inflating: images/gold/128.jpeg    \n",
            "  inflating: images/gold/13.jpeg     \n",
            "  inflating: images/gold/133.jpeg    \n",
            "  inflating: images/gold/134.jpeg    \n",
            "  inflating: images/gold/135.jpeg    \n",
            "  inflating: images/gold/136.jpeg    \n",
            "  inflating: images/gold/137.jpeg    \n",
            "  inflating: images/gold/138.jpeg    \n",
            "  inflating: images/gold/139.jpeg    \n",
            "  inflating: images/gold/14.jpeg     \n",
            "  inflating: images/gold/140.jpeg    \n",
            "  inflating: images/gold/141.jpeg    \n",
            "  inflating: images/gold/142.jpeg    \n",
            "  inflating: images/gold/143.jpeg    \n",
            "  inflating: images/gold/144.jpeg    \n",
            "  inflating: images/gold/145.jpeg    \n",
            "  inflating: images/gold/146.jpeg    \n",
            "  inflating: images/gold/147.jpeg    \n",
            "  inflating: images/gold/148.jpeg    \n",
            "  inflating: images/gold/15.jpeg     \n",
            "  inflating: images/gold/150.jpeg    \n",
            "  inflating: images/gold/151.jpeg    \n",
            "  inflating: images/gold/152.jpeg    \n",
            "  inflating: images/gold/153.jpeg    \n",
            "  inflating: images/gold/155.jpeg    \n",
            "  inflating: images/gold/156.jpeg    \n",
            "  inflating: images/gold/157.jpeg    \n",
            "  inflating: images/gold/158.jpeg    \n",
            "  inflating: images/gold/159.jpeg    \n",
            "  inflating: images/gold/16.jpeg     \n",
            "  inflating: images/gold/160.jpeg    \n",
            "  inflating: images/gold/161.jpeg    \n",
            "  inflating: images/gold/162.jpeg    \n",
            "  inflating: images/gold/163.jpeg    \n",
            "  inflating: images/gold/164.jpeg    \n",
            "  inflating: images/gold/165.jpeg    \n",
            "  inflating: images/gold/166.jpeg    \n",
            "  inflating: images/gold/17.jpeg     \n",
            "  inflating: images/gold/18.jpeg     \n",
            "  inflating: images/gold/19.jpeg     \n",
            "  inflating: images/gold/20.jpeg     \n",
            "  inflating: images/gold/200.jpeg    \n",
            "  inflating: images/gold/201.jpeg    \n",
            "  inflating: images/gold/202.jpeg    \n",
            "  inflating: images/gold/203.jpeg    \n",
            "  inflating: images/gold/206.jpeg    \n",
            "  inflating: images/gold/207.jpeg    \n",
            "  inflating: images/gold/208.jpeg    \n",
            "  inflating: images/gold/209.jpeg    \n",
            "  inflating: images/gold/21.jpeg     \n",
            "  inflating: images/gold/210.jpeg    \n",
            "  inflating: images/gold/211.jpeg    \n",
            "  inflating: images/gold/212.jpeg    \n",
            "  inflating: images/gold/213.jpeg    \n",
            "  inflating: images/gold/214.jpeg    \n",
            "  inflating: images/gold/215.jpeg    \n",
            "  inflating: images/gold/216.jpeg    \n",
            "  inflating: images/gold/217.jpeg    \n",
            "  inflating: images/gold/218.jpeg    \n",
            "  inflating: images/gold/219.jpeg    \n",
            "  inflating: images/gold/220.jpeg    \n",
            "  inflating: images/gold/221.jpeg    \n",
            "  inflating: images/gold/222.jpeg    \n",
            "  inflating: images/gold/223.jpeg    \n",
            "  inflating: images/gold/224.jpeg    \n",
            "  inflating: images/gold/225.jpeg    \n",
            "  inflating: images/gold/226.jpeg    \n",
            "  inflating: images/gold/227.jpeg    \n",
            "  inflating: images/gold/228.jpeg    \n",
            "  inflating: images/gold/229.jpeg    \n",
            "  inflating: images/gold/230.jpeg    \n",
            "  inflating: images/gold/231.jpeg    \n",
            "  inflating: images/gold/232.jpeg    \n",
            "  inflating: images/gold/233.jpeg    \n",
            "  inflating: images/gold/234.jpeg    \n",
            "  inflating: images/gold/235.jpeg    \n",
            "  inflating: images/gold/236.jpeg    \n",
            "  inflating: images/gold/237.jpeg    \n",
            "  inflating: images/gold/238.jpeg    \n",
            "  inflating: images/gold/239.jpeg    \n",
            "  inflating: images/gold/240.jpeg    \n",
            "  inflating: images/gold/241.jpeg    \n",
            "  inflating: images/gold/242.jpeg    \n",
            "  inflating: images/gold/243.jpeg    \n",
            "  inflating: images/gold/28.jpeg     \n",
            "  inflating: images/gold/30.jpeg     \n",
            "  inflating: images/gold/300.jpeg    \n",
            "  inflating: images/gold/301.jpeg    \n",
            "  inflating: images/gold/302.jpeg    \n",
            "  inflating: images/gold/303.jpeg    \n",
            "  inflating: images/gold/304.jpeg    \n",
            "  inflating: images/gold/305.jpeg    \n",
            "  inflating: images/gold/306.jpeg    \n",
            "  inflating: images/gold/307.jpeg    \n",
            "  inflating: images/gold/308.jpeg    \n",
            "  inflating: images/gold/309.jpeg    \n",
            "  inflating: images/gold/31.jpeg     \n",
            "  inflating: images/gold/310.jpeg    \n",
            "  inflating: images/gold/311.jpeg    \n",
            "  inflating: images/gold/312.jpeg    \n",
            "  inflating: images/gold/313.jpeg    \n",
            "  inflating: images/gold/314.jpeg    \n",
            "  inflating: images/gold/315.jpeg    \n",
            "  inflating: images/gold/316.jpeg    \n",
            "  inflating: images/gold/317.jpeg    \n",
            "  inflating: images/gold/318.jpeg    \n",
            "  inflating: images/gold/319.jpeg    \n",
            "  inflating: images/gold/32.jpeg     \n",
            "  inflating: images/gold/320.jpeg    \n",
            "  inflating: images/gold/321.jpeg    \n",
            "  inflating: images/gold/322.jpeg    \n",
            "  inflating: images/gold/323.jpeg    \n",
            "  inflating: images/gold/324.jpeg    \n",
            "  inflating: images/gold/325.jpeg    \n",
            "  inflating: images/gold/326.jpeg    \n",
            "  inflating: images/gold/327.jpeg    \n",
            "  inflating: images/gold/328.jpeg    \n",
            "  inflating: images/gold/329.jpeg    \n",
            "  inflating: images/gold/330.jpeg    \n",
            "  inflating: images/gold/331.jpeg    \n",
            "  inflating: images/gold/332.jpeg    \n",
            "  inflating: images/gold/333.jpeg    \n",
            "  inflating: images/gold/334.jpeg    \n",
            "  inflating: images/gold/335.jpeg    \n",
            "  inflating: images/gold/336.jpeg    \n",
            "  inflating: images/gold/338.jpeg    \n",
            "  inflating: images/gold/339.jpeg    \n",
            "  inflating: images/gold/340.jpeg    \n",
            "  inflating: images/gold/341.jpeg    \n",
            "  inflating: images/gold/342.jpeg    \n",
            "  inflating: images/gold/344.jpeg    \n",
            "  inflating: images/gold/345.jpeg    \n",
            "  inflating: images/gold/346.jpeg    \n",
            "  inflating: images/gold/347.jpeg    \n",
            "  inflating: images/gold/348.jpeg    \n",
            "  inflating: images/gold/349.jpeg    \n",
            "  inflating: images/gold/350.jpeg    \n",
            "  inflating: images/gold/351.jpeg    \n",
            "  inflating: images/gold/352.jpeg    \n",
            "  inflating: images/gold/353.jpeg    \n",
            "  inflating: images/gold/354.jpeg    \n",
            "  inflating: images/gold/355.jpeg    \n",
            "  inflating: images/gold/356.jpeg    \n",
            "  inflating: images/gold/357.jpeg    \n",
            "  inflating: images/gold/358.jpeg    \n",
            "  inflating: images/gold/359.jpeg    \n",
            "  inflating: images/gold/360.jpeg    \n",
            "  inflating: images/gold/361.jpeg    \n",
            "  inflating: images/gold/362.jpeg    \n",
            "  inflating: images/gold/363.jpeg    \n",
            "  inflating: images/gold/364.jpeg    \n",
            "  inflating: images/gold/365.jpeg    \n",
            "  inflating: images/gold/367.jpeg    \n",
            "  inflating: images/gold/368.jpeg    \n",
            "  inflating: images/gold/41.jpeg     \n",
            "  inflating: images/gold/42.jpeg     \n",
            "  inflating: images/gold/51.jpeg     \n",
            "  inflating: images/gold/88.jpeg     \n",
            "  inflating: images/gold/98.jpeg     \n",
            "  inflating: images/gold/99.jpeg     \n",
            "  inflating: images/pyrite/0.jpeg    \n",
            "  inflating: images/pyrite/1.jpeg    \n",
            "  inflating: images/pyrite/10.jpeg   \n",
            "  inflating: images/pyrite/100.jpeg  \n",
            "  inflating: images/pyrite/101.jpeg  \n",
            "  inflating: images/pyrite/102.jpeg  \n",
            "  inflating: images/pyrite/103.jpeg  \n",
            "  inflating: images/pyrite/105.jpeg  \n",
            "  inflating: images/pyrite/107.jpeg  \n",
            "  inflating: images/pyrite/108.jpeg  \n",
            "  inflating: images/pyrite/109.jpeg  \n",
            "  inflating: images/pyrite/11.jpeg   \n",
            "  inflating: images/pyrite/110.jpeg  \n",
            "  inflating: images/pyrite/111.jpeg  \n",
            "  inflating: images/pyrite/112.jpeg  \n",
            "  inflating: images/pyrite/113.jpeg  \n",
            "  inflating: images/pyrite/114.jpeg  \n",
            "  inflating: images/pyrite/115.jpeg  \n",
            "  inflating: images/pyrite/116.jpeg  \n",
            "  inflating: images/pyrite/117.jpeg  \n",
            "  inflating: images/pyrite/118.jpeg  \n",
            "  inflating: images/pyrite/119.jpeg  \n",
            "  inflating: images/pyrite/12.jpeg   \n",
            "  inflating: images/pyrite/120.jpeg  \n",
            "  inflating: images/pyrite/121.jpeg  \n",
            "  inflating: images/pyrite/122.jpeg  \n",
            "  inflating: images/pyrite/123.jpeg  \n",
            "  inflating: images/pyrite/124.jpeg  \n",
            "  inflating: images/pyrite/125.jpeg  \n",
            "  inflating: images/pyrite/126.jpeg  \n",
            "  inflating: images/pyrite/127.jpeg  \n",
            "  inflating: images/pyrite/128.jpeg  \n",
            "  inflating: images/pyrite/129.jpeg  \n",
            "  inflating: images/pyrite/13.jpeg   \n",
            "  inflating: images/pyrite/130.jpeg  \n",
            "  inflating: images/pyrite/131.jpeg  \n",
            "  inflating: images/pyrite/132.jpeg  \n",
            "  inflating: images/pyrite/133.jpeg  \n",
            "  inflating: images/pyrite/134.jpeg  \n",
            "  inflating: images/pyrite/135.jpeg  \n",
            "  inflating: images/pyrite/136.jpeg  \n",
            "  inflating: images/pyrite/137.jpeg  \n",
            "  inflating: images/pyrite/138.jpeg  \n",
            "  inflating: images/pyrite/139.jpeg  \n",
            "  inflating: images/pyrite/14.jpeg   \n",
            "  inflating: images/pyrite/140.jpeg  \n",
            "  inflating: images/pyrite/141.jpeg  \n",
            "  inflating: images/pyrite/142.jpeg  \n",
            "  inflating: images/pyrite/143.jpeg  \n",
            "  inflating: images/pyrite/144.jpeg  \n",
            "  inflating: images/pyrite/145.jpeg  \n",
            "  inflating: images/pyrite/146.jpeg  \n",
            "  inflating: images/pyrite/147.jpeg  \n",
            "  inflating: images/pyrite/148.jpeg  \n",
            "  inflating: images/pyrite/150.jpeg  \n",
            "  inflating: images/pyrite/151.jpeg  \n",
            "  inflating: images/pyrite/152.jpeg  \n",
            "  inflating: images/pyrite/153.jpeg  \n",
            "  inflating: images/pyrite/154.jpeg  \n",
            "  inflating: images/pyrite/155.jpeg  \n",
            "  inflating: images/pyrite/156.jpeg  \n",
            "  inflating: images/pyrite/158.jpeg  \n",
            "  inflating: images/pyrite/159.jpeg  \n",
            "  inflating: images/pyrite/16.jpeg   \n",
            "  inflating: images/pyrite/160.jpeg  \n",
            "  inflating: images/pyrite/161.jpeg  \n",
            "  inflating: images/pyrite/162.jpeg  \n",
            "  inflating: images/pyrite/163.jpeg  \n",
            "  inflating: images/pyrite/164.jpeg  \n",
            "  inflating: images/pyrite/165.jpeg  \n",
            "  inflating: images/pyrite/166.jpeg  \n",
            "  inflating: images/pyrite/167.jpeg  \n",
            "  inflating: images/pyrite/168.jpeg  \n",
            "  inflating: images/pyrite/169.jpeg  \n",
            "  inflating: images/pyrite/17.jpeg   \n",
            "  inflating: images/pyrite/170.jpeg  \n",
            "  inflating: images/pyrite/171.jpeg  \n",
            "  inflating: images/pyrite/172.jpeg  \n",
            "  inflating: images/pyrite/173.jpeg  \n",
            "  inflating: images/pyrite/174.jpeg  \n",
            "  inflating: images/pyrite/175.jpeg  \n",
            "  inflating: images/pyrite/176.jpeg  \n",
            "  inflating: images/pyrite/177.jpeg  \n",
            "  inflating: images/pyrite/178.jpeg  \n",
            "  inflating: images/pyrite/179.jpeg  \n",
            "  inflating: images/pyrite/18.jpeg   \n",
            "  inflating: images/pyrite/180.jpeg  \n",
            "  inflating: images/pyrite/181.jpeg  \n",
            "  inflating: images/pyrite/182.jpeg  \n",
            "  inflating: images/pyrite/183.jpeg  \n",
            "  inflating: images/pyrite/184.jpeg  \n",
            "  inflating: images/pyrite/185.jpeg  \n",
            "  inflating: images/pyrite/186.jpeg  \n",
            "  inflating: images/pyrite/187.jpeg  \n",
            "  inflating: images/pyrite/188.jpeg  \n",
            "  inflating: images/pyrite/189.jpeg  \n",
            "  inflating: images/pyrite/19.jpeg   \n",
            "  inflating: images/pyrite/190.jpeg  \n",
            "  inflating: images/pyrite/191.jpeg  \n",
            "  inflating: images/pyrite/192.jpeg  \n",
            "  inflating: images/pyrite/193.jpeg  \n",
            "  inflating: images/pyrite/194.jpeg  \n",
            "  inflating: images/pyrite/195.jpeg  \n",
            "  inflating: images/pyrite/196.jpeg  \n",
            "  inflating: images/pyrite/2.jpeg    \n",
            "  inflating: images/pyrite/20.jpeg   \n",
            "  inflating: images/pyrite/21.jpeg   \n",
            "  inflating: images/pyrite/22.jpeg   \n",
            "  inflating: images/pyrite/24.jpeg   \n",
            "  inflating: images/pyrite/25.jpeg   \n",
            "  inflating: images/pyrite/26.jpeg   \n",
            "  inflating: images/pyrite/27.jpeg   \n",
            "  inflating: images/pyrite/29.jpeg   \n",
            "  inflating: images/pyrite/3.jpeg    \n",
            "  inflating: images/pyrite/30.jpeg   \n",
            "  inflating: images/pyrite/32.jpeg   \n",
            "  inflating: images/pyrite/33.jpeg   \n",
            "  inflating: images/pyrite/34.jpeg   \n",
            "  inflating: images/pyrite/35.jpeg   \n",
            "  inflating: images/pyrite/36.jpeg   \n",
            "  inflating: images/pyrite/37.jpeg   \n",
            "  inflating: images/pyrite/38.jpeg   \n",
            "  inflating: images/pyrite/39.jpeg   \n",
            "  inflating: images/pyrite/4.jpeg    \n",
            "  inflating: images/pyrite/41.jpeg   \n",
            "  inflating: images/pyrite/42.jpeg   \n",
            "  inflating: images/pyrite/43.jpeg   \n",
            "  inflating: images/pyrite/44.jpeg   \n",
            "  inflating: images/pyrite/45.jpeg   \n",
            "  inflating: images/pyrite/46.jpeg   \n",
            "  inflating: images/pyrite/47.jpeg   \n",
            "  inflating: images/pyrite/48.jpeg   \n",
            "  inflating: images/pyrite/49.jpeg   \n",
            "  inflating: images/pyrite/5.jpeg    \n",
            "  inflating: images/pyrite/50.jpeg   \n",
            "  inflating: images/pyrite/52.jpeg   \n",
            "  inflating: images/pyrite/53.jpeg   \n",
            "  inflating: images/pyrite/54.jpeg   \n",
            "  inflating: images/pyrite/55.jpeg   \n",
            "  inflating: images/pyrite/56.jpeg   \n",
            "  inflating: images/pyrite/57.jpeg   \n",
            "  inflating: images/pyrite/58.jpeg   \n",
            "  inflating: images/pyrite/59.jpeg   \n",
            "  inflating: images/pyrite/6.jpeg    \n",
            "  inflating: images/pyrite/62.jpeg   \n",
            "  inflating: images/pyrite/64.jpeg   \n",
            "  inflating: images/pyrite/65.jpeg   \n",
            "  inflating: images/pyrite/66.jpeg   \n",
            "  inflating: images/pyrite/67.jpeg   \n",
            "  inflating: images/pyrite/68.jpeg   \n",
            "  inflating: images/pyrite/69.jpeg   \n",
            "  inflating: images/pyrite/7.jpeg    \n",
            "  inflating: images/pyrite/70.jpeg   \n",
            "  inflating: images/pyrite/71.jpeg   \n",
            "  inflating: images/pyrite/73.jpeg   \n",
            "  inflating: images/pyrite/74.jpeg   \n",
            "  inflating: images/pyrite/75.jpeg   \n",
            "  inflating: images/pyrite/76.jpeg   \n",
            "  inflating: images/pyrite/77.jpeg   \n",
            "  inflating: images/pyrite/79.jpeg   \n",
            "  inflating: images/pyrite/8.jpeg    \n",
            "  inflating: images/pyrite/80.jpeg   \n",
            "  inflating: images/pyrite/81.jpeg   \n",
            "  inflating: images/pyrite/82.jpeg   \n",
            "  inflating: images/pyrite/83.jpeg   \n",
            "  inflating: images/pyrite/84.jpeg   \n",
            "  inflating: images/pyrite/85.jpeg   \n",
            "  inflating: images/pyrite/88.jpeg   \n",
            "  inflating: images/pyrite/89.jpeg   \n",
            "  inflating: images/pyrite/9.jpeg    \n",
            "  inflating: images/pyrite/90.jpeg   \n",
            "  inflating: images/pyrite/91.jpeg   \n",
            "  inflating: images/pyrite/92.jpeg   \n",
            "  inflating: images/pyrite/93.jpeg   \n",
            "  inflating: images/pyrite/94.jpeg   \n",
            "  inflating: images/pyrite/95.jpeg   \n",
            "  inflating: images/pyrite/96.jpeg   \n",
            "  inflating: images/pyrite/97.jpeg   \n",
            "  inflating: images/pyrite/98.jpeg   \n",
            "  inflating: images/pyrite/99.jpeg   \n"
          ],
          "name": "stdout"
        }
      ]
    },
    {
      "cell_type": "markdown",
      "metadata": {
        "id": "UdKovgD8liIg"
      },
      "source": [
        "Now it makes sense to augment the data, because we don't have that many pictures\n",
        "Let's use ImageDataGenerator from tensorflow\n"
      ]
    },
    {
      "cell_type": "code",
      "metadata": {
        "colab": {
          "base_uri": "https://localhost:8080/"
        },
        "id": "17p0iuKhGsX8",
        "outputId": "65a2a878-0d60-4ab9-f68a-7dc1796d3020"
      },
      "source": [
        "from tensorflow.keras.preprocessing.image import ImageDataGenerator\n",
        "image_generator = ImageDataGenerator(rescale=1.0/255.0, validation_split=0.2, rotation_range = 20, width_shift_range = 0.2, height_shift_range = 0.2, shear_range = 0.2, zoom_range = 0.2, horizontal_flip = True, vertical_flip = True) \n",
        "\n",
        "\n",
        "train_dataset = image_generator.flow_from_directory(batch_size=32,\n",
        "                                                 directory='/content/images',\n",
        "                                                 shuffle=True,\n",
        "                                                 target_size=(512, 512), \n",
        "                                                 subset=\"training\",\n",
        "                                                 class_mode='categorical')\n",
        "\n",
        "validation_generator = image_generator.flow_from_directory(batch_size=32,\n",
        "                                                 directory='/content/images',\n",
        "                                                 shuffle=True,\n",
        "                                                 target_size=(512, 512), \n",
        "                                                 subset=\"training\",\n",
        "                                                 class_mode='categorical')\n"
      ],
      "execution_count": null,
      "outputs": [
        {
          "output_type": "stream",
          "text": [
            "Found 290 images belonging to 2 classes.\n",
            "Found 290 images belonging to 2 classes.\n"
          ],
          "name": "stdout"
        }
      ]
    },
    {
      "cell_type": "markdown",
      "metadata": {
        "id": "_OsRcAh7mamZ"
      },
      "source": [
        "We add layers to the neural network. Very variable thing, google xception, VGG, Resnet"
      ]
    },
    {
      "cell_type": "code",
      "metadata": {
        "id": "daoggIHKJZ0t"
      },
      "source": [
        "import tensorflow as tf\n",
        "from tensorflow import keras\n",
        "from tensorflow.keras import layers\n",
        "from tensorflow.keras.models import Sequential\n",
        "\n",
        "model = Sequential([                 \n",
        "  layers.Conv2D(32, (3,3), padding='same', activation='relu', input_shape=(512, 512, 3)),\n",
        "  layers.MaxPooling2D(2,2),\n",
        "  layers.Conv2D(64, (3,3), padding='same', activation='relu'),\n",
        "  layers.MaxPooling2D(2,2),\n",
        "  layers.Conv2D(128, (3,3), padding='same', activation='relu'),\n",
        "  layers.MaxPooling2D(2,2),\n",
        "  layers.Conv2D(128, (3,3), padding='same', activation='relu'),\n",
        "  layers.MaxPooling2D(2,2),\n",
        "  layers.Conv2D(256, (3,3), padding='same', activation='relu'),\n",
        "  layers.AveragePooling2D(pool_size=(2,2), strides = (2,2)),\n",
        "    layers.Conv2D(256, (3,3), padding='same', activation='relu'),\n",
        "  layers.AveragePooling2D(pool_size=(2,2), strides = (2,2)),\n",
        "    layers.Conv2D(256, (3,3), padding='same', activation='relu'),\n",
        "  layers.AveragePooling2D(pool_size=(2,2), strides = (2,2)),\n",
        "  layers.Conv2D(128, (3,3), padding='same', activation='relu'),\n",
        "  layers.MaxPooling2D(2,2),\n",
        "  layers.Conv2D(64, (3,3), padding='same', activation='relu', input_shape=(512, 512, 3)),\n",
        "  layers.MaxPooling2D(2,2),\n",
        "  layers.Flatten(),\n",
        "  layers.Dropout(0.5),\n",
        "  layers.Dense(64, activation='relu'),\n",
        "  layers.Dense(2, activation = 'sigmoid')\n",
        "\n",
        "])\n",
        "\n",
        "  \n",
        "model.compile(loss='binary_crossentropy',\n",
        "  optimizer='adam', metrics=['accuracy'])  "
      ],
      "execution_count": null,
      "outputs": []
    },
    {
      "cell_type": "markdown",
      "metadata": {
        "id": "DqlnB1MhnB0L"
      },
      "source": [
        "Training"
      ]
    },
    {
      "cell_type": "code",
      "metadata": {
        "colab": {
          "base_uri": "https://localhost:8080/"
        },
        "id": "Rp3zUwlPKy77",
        "outputId": "27e0f92f-4fa9-4d96-cd47-a0bb3713cadd"
      },
      "source": [
        "callback = tf.keras.callbacks.EarlyStopping(monitor='val_loss', patience=4) \n",
        "\n",
        "history = model.fit(\n",
        "    train_dataset,\n",
        "    epochs=50,\n",
        "    batch_size = 32,\n",
        "    validation_data=validation_generator,\n",
        "    callbacks=[callback],\n",
        "    verbose = 1\n",
        ")"
      ],
      "execution_count": null,
      "outputs": [
        {
          "output_type": "stream",
          "text": [
            "Epoch 1/100\n",
            "10/10 [==============================] - 32s 4s/step - loss: 0.3936 - accuracy: 0.8690 - val_loss: 0.3747 - val_accuracy: 0.8586\n",
            "Epoch 2/100\n",
            "10/10 [==============================] - 31s 3s/step - loss: 0.3427 - accuracy: 0.8621 - val_loss: 0.4093 - val_accuracy: 0.8690\n",
            "Epoch 3/100\n",
            "10/10 [==============================] - 31s 3s/step - loss: 0.3302 - accuracy: 0.8931 - val_loss: 0.2844 - val_accuracy: 0.8793\n",
            "Epoch 4/100\n",
            "10/10 [==============================] - 31s 3s/step - loss: 0.3406 - accuracy: 0.8621 - val_loss: 0.3108 - val_accuracy: 0.8931\n",
            "Epoch 5/100\n",
            "10/10 [==============================] - 31s 3s/step - loss: 0.3180 - accuracy: 0.8897 - val_loss: 0.2535 - val_accuracy: 0.8931\n",
            "Epoch 6/100\n",
            "10/10 [==============================] - 31s 3s/step - loss: 0.2873 - accuracy: 0.8793 - val_loss: 0.3052 - val_accuracy: 0.8655\n",
            "Epoch 7/100\n",
            "10/10 [==============================] - 30s 3s/step - loss: 0.3051 - accuracy: 0.8655 - val_loss: 0.2545 - val_accuracy: 0.9034\n",
            "Epoch 8/100\n",
            "10/10 [==============================] - 31s 3s/step - loss: 0.3095 - accuracy: 0.8655 - val_loss: 0.2798 - val_accuracy: 0.8793\n",
            "Epoch 9/100\n",
            "10/10 [==============================] - 31s 3s/step - loss: 0.2909 - accuracy: 0.8897 - val_loss: 0.2702 - val_accuracy: 0.9000\n",
            "Epoch 10/100\n",
            "10/10 [==============================] - 31s 3s/step - loss: 0.2760 - accuracy: 0.8862 - val_loss: 0.2550 - val_accuracy: 0.9103\n",
            "Epoch 11/100\n",
            "10/10 [==============================] - 31s 3s/step - loss: 0.3434 - accuracy: 0.8655 - val_loss: 0.2756 - val_accuracy: 0.8828\n",
            "Epoch 12/100\n",
            "10/10 [==============================] - 30s 3s/step - loss: 0.3731 - accuracy: 0.8655 - val_loss: 0.2813 - val_accuracy: 0.8793\n",
            "Epoch 13/100\n",
            "10/10 [==============================] - 31s 3s/step - loss: 0.3184 - accuracy: 0.8724 - val_loss: 0.2879 - val_accuracy: 0.8793\n",
            "Epoch 14/100\n",
            "10/10 [==============================] - 30s 3s/step - loss: 0.3505 - accuracy: 0.8759 - val_loss: 0.3368 - val_accuracy: 0.8828\n",
            "Epoch 15/100\n",
            "10/10 [==============================] - 30s 3s/step - loss: 0.4091 - accuracy: 0.8241 - val_loss: 0.3234 - val_accuracy: 0.8897\n"
          ],
          "name": "stdout"
        }
      ]
    },
    {
      "cell_type": "code",
      "metadata": {
        "id": "Opx1wfjwVxZ_"
      },
      "source": [
        "#saving, don't forget because google colab won't automatically save\n",
        "model.save('model.h5')\n",
        "model.save_weights('model_weights.h5')\n"
      ],
      "execution_count": null,
      "outputs": []
    },
    {
      "cell_type": "markdown",
      "metadata": {
        "id": "cdjXCuexnbot"
      },
      "source": [
        "Now testing on a test dataset, let's load new images"
      ]
    },
    {
      "cell_type": "code",
      "metadata": {
        "colab": {
          "resources": {
            "http://localhost:8080/nbextensions/google.colab/files.js": {
              "data": "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",
              "ok": true,
              "headers": [
                [
                  "content-type",
                  "application/javascript"
                ]
              ],
              "status": 200,
              "status_text": ""
            }
          },
          "base_uri": "https://localhost:8080/",
          "height": 946
        },
        "id": "k-NB3F6fY3i-",
        "outputId": "4e606bd8-95b6-4695-fd68-7e5794ba8538"
      },
      "source": [
        "from google.colab import files\n",
        "\n",
        "files.upload()\n",
        "! unzip downloads.zip"
      ],
      "execution_count": null,
      "outputs": [
        {
          "output_type": "display_data",
          "data": {
            "text/html": [
              "\n",
              "     <input type=\"file\" id=\"files-8d062485-c193-468e-b9f0-dbb5bfd08ca3\" name=\"files[]\" multiple disabled\n",
              "        style=\"border:none\" />\n",
              "     <output id=\"result-8d062485-c193-468e-b9f0-dbb5bfd08ca3\">\n",
              "      Upload widget is only available when the cell has been executed in the\n",
              "      current browser session. Please rerun this cell to enable.\n",
              "      </output>\n",
              "      <script src=\"/nbextensions/google.colab/files.js\"></script> "
            ],
            "text/plain": [
              "<IPython.core.display.HTML object>"
            ]
          },
          "metadata": {
            "tags": []
          }
        },
        {
          "output_type": "stream",
          "text": [
            "Saving downloads.zip to downloads.zip\n",
            "Archive:  downloads.zip\n",
            "   creating: downloads/\n",
            "   creating: downloads/gold/\n",
            "  inflating: downloads/gold/300.jpeg  \n",
            "  inflating: downloads/gold/301.jpeg  \n",
            "  inflating: downloads/gold/302.jpeg  \n",
            "  inflating: downloads/gold/303.jpeg  \n",
            "  inflating: downloads/gold/304.jpeg  \n",
            "  inflating: downloads/gold/305.jpeg  \n",
            "  inflating: downloads/gold/306.jpeg  \n",
            "  inflating: downloads/gold/307.jpeg  \n",
            "  inflating: downloads/gold/308.jpeg  \n",
            "  inflating: downloads/gold/309.jpeg  \n",
            "  inflating: downloads/gold/310.jpeg  \n",
            "  inflating: downloads/gold/311.jpeg  \n",
            "  inflating: downloads/gold/312.jpeg  \n",
            "  inflating: downloads/gold/313.jpeg  \n",
            "  inflating: downloads/gold/314.jpeg  \n",
            "  inflating: downloads/gold/315.jpeg  \n",
            "  inflating: downloads/gold/316.jpeg  \n",
            "  inflating: downloads/gold/317.jpeg  \n",
            "  inflating: downloads/gold/318.jpeg  \n",
            "  inflating: downloads/gold/319.jpeg  \n",
            "  inflating: downloads/gold/320.jpeg  \n",
            "  inflating: downloads/gold/321.jpeg  \n",
            "  inflating: downloads/gold/322.jpeg  \n",
            "  inflating: downloads/gold/323.jpeg  \n",
            "  inflating: downloads/gold/324.jpeg  \n",
            "   creating: downloads/pyrite/\n",
            "  inflating: downloads/pyrite/300.jpeg  \n",
            "  inflating: downloads/pyrite/301.jpeg  \n",
            "  inflating: downloads/pyrite/302.jpeg  \n",
            "  inflating: downloads/pyrite/303.jpeg  \n",
            "  inflating: downloads/pyrite/304.jpeg  \n",
            "  inflating: downloads/pyrite/305.jpeg  \n",
            "  inflating: downloads/pyrite/306.jpeg  \n",
            "  inflating: downloads/pyrite/307.jpeg  \n",
            "  inflating: downloads/pyrite/308.jpeg  \n",
            "  inflating: downloads/pyrite/309.jpeg  \n",
            "  inflating: downloads/pyrite/310.jpeg  \n",
            "  inflating: downloads/pyrite/311.jpeg  \n",
            "  inflating: downloads/pyrite/312.jpeg  \n",
            "  inflating: downloads/pyrite/313.jpeg  \n",
            "  inflating: downloads/pyrite/314.jpeg  \n",
            "  inflating: downloads/pyrite/315.jpeg  \n",
            "  inflating: downloads/pyrite/316.jpeg  \n",
            "  inflating: downloads/pyrite/317.jpeg  \n",
            "  inflating: downloads/pyrite/318.jpeg  \n",
            "  inflating: downloads/pyrite/319.jpeg  \n",
            "  inflating: downloads/pyrite/320.jpeg  \n",
            "  inflating: downloads/pyrite/321.jpeg  \n",
            "  inflating: downloads/pyrite/322.jpeg  \n",
            "  inflating: downloads/pyrite/323.jpeg  \n"
          ],
          "name": "stdout"
        }
      ]
    },
    {
      "cell_type": "markdown",
      "metadata": {
        "id": "Q9WUV8L2ofnD"
      },
      "source": [
        "Load the saved model as if we hadn't just trained it, but use it somewhere else and evaluate the accuracy of the model"
      ]
    },
    {
      "cell_type": "code",
      "metadata": {
        "colab": {
          "base_uri": "https://localhost:8080/"
        },
        "id": "ztHCAw-5ZbjB",
        "outputId": "2718ab63-01a1-4375-ed5c-2e6a4776f7ef"
      },
      "source": [
        "from tensorflow.keras.preprocessing.image import ImageDataGenerator\n",
        "from tensorflow.keras.models import load_model\n",
        "\n",
        "\n",
        "image_generator = ImageDataGenerator(rescale=1.0/255.0, rotation_range = 20, width_shift_range = 0.2, height_shift_range = 0.2, shear_range = 0.2, zoom_range = 0.2, horizontal_flip = True, vertical_flip = True) \n",
        "\n",
        "x_test = image_generator.flow_from_directory(batch_size=32,\n",
        "                                                 directory='/content/downloads',\n",
        "                                                 shuffle=True,\n",
        "                                                 target_size=(512, 512), \n",
        "                                                 subset=\"training\",\n",
        "                                                 class_mode='categorical')\n",
        "\n",
        "model = load_model('/content/model.h5')\n",
        "results = model.evaluate(x_test, batch_size=32)\n",
        "print(\"test loss, test acc:\", results)"
      ],
      "execution_count": null,
      "outputs": [
        {
          "output_type": "stream",
          "text": [
            "Found 40 images belonging to 2 classes.\n",
            "Found 40 images belonging to 2 classes.\n",
            "2/2 [==============================] - 32s 367ms/step - loss: 0.3081 - accuracy: 0.9000\n",
            "test loss, test acc: [0.3080773949623108, 0.8999999761581421]\n"
          ],
          "name": "stdout"
        }
      ]
    },
    {
      "cell_type": "markdown",
      "metadata": {
        "id": "N0pZUl2lphKV"
      },
      "source": [
        "Not bad\n",
        "Now let's try to make a prediction of a particular image"
      ]
    },
    {
      "cell_type": "code",
      "metadata": {
        "colab": {
          "base_uri": "https://localhost:8080/",
          "height": 282
        },
        "id": "xCnW4msidG7N",
        "outputId": "1bcd2334-ce0f-4068-846f-d2f124491e2e"
      },
      "source": [
        "from keras.preprocessing import image\n",
        "import matplotlib.pyplot as plt\n",
        "import numpy as np\n",
        "import os\n",
        "\n",
        "\n",
        "def load_image(img_path, show=False):\n",
        "    img = image.load_img(img_path, target_size=(512, 512))\n",
        "    img_tensor = image.img_to_array(img)                    # (height, width, channels)\n",
        "    img_tensor = np.expand_dims(img_tensor, axis=0)         # (1, height, width, channels), add a dimension because the model expects this shape: (batch_size, height, width, channels)\n",
        "    img_tensor /= 255.                                      # imshow expects values in the range [0, 1]\n",
        "    if show:\n",
        "        plt.imshow(img_tensor[0])                           \n",
        "        plt.axis('off')\n",
        "        plt.show()\n",
        "    return img_tensor\n",
        "\n",
        "img = '/content/downloads/gold/324.jpeg'\n",
        "new_image = load_image(img, True)\n",
        "\n",
        "\n",
        "pred = model.predict(new_image)\n",
        "print(pred)\n",
        "if pred[0][0] > 0.5:\n",
        "    prediction = 'gold'\n",
        "else:\n",
        "    prediction = 'pyrite'\n",
        "print(prediction)"
      ],
      "execution_count": null,
      "outputs": [
        {
          "output_type": "display_data",
          "data": {
            "image/png": "[encoded data removed]",
            "text/plain": [
              "<Figure size 432x288 with 1 Axes>"
            ]
          },
          "metadata": {
            "tags": [],
            "needs_background": "light"
          }
        },
        {
          "output_type": "stream",
          "text": [
            "[[0.87241346 0.13576671]]\n",
            "gold\n"
          ],
          "name": "stdout"
        }
      ]
    }
  ]
}